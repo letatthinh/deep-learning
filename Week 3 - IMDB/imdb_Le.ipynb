{
  "nbformat": 4,
  "nbformat_minor": 0,
  "metadata": {
    "colab": {
      "provenance": []
    },
    "kernelspec": {
      "name": "python3",
      "display_name": "Python 3"
    },
    "language_info": {
      "name": "python"
    }
  },
  "cells": [
    {
      "cell_type": "markdown",
      "source": [
        "#### Block 1:  Import general purpose packages for ease of use and improved performance."
      ],
      "metadata": {
        "id": "SxMReo5oq986"
      }
    },
    {
      "cell_type": "code",
      "source": [
        "import matplotlib.pyplot as plt\n",
        "import numpy as np\n",
        "import pprint"
      ],
      "metadata": {
        "id": "HcrDIqY4q3J7"
      },
      "execution_count": 1,
      "outputs": []
    },
    {
      "cell_type": "markdown",
      "source": [
        "#### Block 2:  Import packages for a typical deep learning workflow using TensorFlow and Keras.  Import the IMDB dataset from Keras."
      ],
      "metadata": {
        "id": "VVU9OI61NZkk"
      }
    },
    {
      "cell_type": "code",
      "execution_count": 2,
      "metadata": {
        "id": "YHxwv0dzNLVD"
      },
      "outputs": [],
      "source": [
        "import tensorflow as tf\n",
        "from tensorflow import keras\n",
        "from tensorflow.keras import layers\n",
        "from tensorflow.keras.datasets import imdb"
      ]
    },
    {
      "cell_type": "markdown",
      "source": [
        "Understand the imdb package:"
      ],
      "metadata": {
        "id": "TmdNqfnGD5nY"
      }
    },
    {
      "cell_type": "code",
      "source": [
        "dir(imdb)"
      ],
      "metadata": {
        "colab": {
          "base_uri": "https://localhost:8080/"
        },
        "id": "6IVyPRh1D1nE",
        "outputId": "663cf4e1-d95a-4369-9bb4-58341f8ab9bb"
      },
      "execution_count": 3,
      "outputs": [
        {
          "output_type": "execute_result",
          "data": {
            "text/plain": [
              "['__builtins__',\n",
              " '__cached__',\n",
              " '__doc__',\n",
              " '__file__',\n",
              " '__loader__',\n",
              " '__name__',\n",
              " '__package__',\n",
              " '__path__',\n",
              " '__spec__',\n",
              " 'get_word_index',\n",
              " 'load_data']"
            ]
          },
          "metadata": {},
          "execution_count": 3
        }
      ]
    },
    {
      "cell_type": "code",
      "source": [
        "help(imdb.get_word_index)"
      ],
      "metadata": {
        "colab": {
          "base_uri": "https://localhost:8080/"
        },
        "id": "_iBx0hsIHoYF",
        "outputId": "5da10dd1-b2b6-45c7-bbec-907d492b1a32"
      },
      "execution_count": 4,
      "outputs": [
        {
          "output_type": "stream",
          "name": "stdout",
          "text": [
            "Help on function get_word_index in module keras.src.datasets.imdb:\n",
            "\n",
            "get_word_index(path='imdb_word_index.json')\n",
            "    Retrieves a dict mapping words to their index in the IMDB dataset.\n",
            "    \n",
            "    Args:\n",
            "        path: where to cache the data (relative to `~/.keras/dataset`).\n",
            "    \n",
            "    Returns:\n",
            "        The word index dictionary. Keys are word strings, values are their\n",
            "        index.\n",
            "    \n",
            "    Example:\n",
            "    \n",
            "    ```python\n",
            "    # Use the default parameters to keras.datasets.imdb.load_data\n",
            "    start_char = 1\n",
            "    oov_char = 2\n",
            "    index_from = 3\n",
            "    # Retrieve the training sequences.\n",
            "    (x_train, _), _ = keras.datasets.imdb.load_data(\n",
            "        start_char=start_char, oov_char=oov_char, index_from=index_from\n",
            "    )\n",
            "    # Retrieve the word index file mapping words to indices\n",
            "    word_index = keras.datasets.imdb.get_word_index()\n",
            "    # Reverse the word index to obtain a dict mapping indices to words\n",
            "    # And add `index_from` to indices to sync with `x_train`\n",
            "    inverted_word_index = dict(\n",
            "        (i + index_from, word) for (word, i) in word_index.items()\n",
            "    )\n",
            "    # Update `inverted_word_index` to include `start_char` and `oov_char`\n",
            "    inverted_word_index[start_char] = \"[START]\"\n",
            "    inverted_word_index[oov_char] = \"[OOV]\"\n",
            "    # Decode the first sequence in the dataset\n",
            "    decoded_sequence = \" \".join(inverted_word_index[i] for i in x_train[0])\n",
            "    ```\n",
            "\n"
          ]
        }
      ]
    },
    {
      "cell_type": "code",
      "source": [
        "help(imdb.load_data)"
      ],
      "metadata": {
        "colab": {
          "base_uri": "https://localhost:8080/"
        },
        "id": "P4Q4BWhcHip1",
        "outputId": "2c8c69d5-d86e-46c3-fe58-204b80da202f"
      },
      "execution_count": 5,
      "outputs": [
        {
          "output_type": "stream",
          "name": "stdout",
          "text": [
            "Help on function load_data in module keras.src.datasets.imdb:\n",
            "\n",
            "load_data(path='imdb.npz', num_words=None, skip_top=0, maxlen=None, seed=113, start_char=1, oov_char=2, index_from=3, **kwargs)\n",
            "    Loads the [IMDB dataset](https://ai.stanford.edu/~amaas/data/sentiment/).\n",
            "    \n",
            "    This is a dataset of 25,000 movies reviews from IMDB, labeled by sentiment\n",
            "    (positive/negative). Reviews have been preprocessed, and each review is\n",
            "    encoded as a list of word indexes (integers).\n",
            "    For convenience, words are indexed by overall frequency in the dataset,\n",
            "    so that for instance the integer \"3\" encodes the 3rd most frequent word in\n",
            "    the data. This allows for quick filtering operations such as:\n",
            "    \"only consider the top 10,000 most\n",
            "    common words, but eliminate the top 20 most common words\".\n",
            "    \n",
            "    As a convention, \"0\" does not stand for a specific word, but instead is used\n",
            "    to encode the pad token.\n",
            "    \n",
            "    Args:\n",
            "        path: where to cache the data (relative to `~/.keras/dataset`).\n",
            "        num_words: integer or None. Words are\n",
            "            ranked by how often they occur (in the training set) and only\n",
            "            the `num_words` most frequent words are kept. Any less frequent word\n",
            "            will appear as `oov_char` value in the sequence data. If None,\n",
            "            all words are kept. Defaults to `None`.\n",
            "        skip_top: skip the top N most frequently occurring words\n",
            "            (which may not be informative). These words will appear as\n",
            "            `oov_char` value in the dataset. When 0, no words are\n",
            "            skipped. Defaults to `0`.\n",
            "        maxlen: int or None. Maximum sequence length.\n",
            "            Any longer sequence will be truncated. None, means no truncation.\n",
            "            Defaults to `None`.\n",
            "        seed: int. Seed for reproducible data shuffling.\n",
            "        start_char: int. The start of a sequence will be marked with this\n",
            "            character. 0 is usually the padding character. Defaults to `1`.\n",
            "        oov_char: int. The out-of-vocabulary character.\n",
            "            Words that were cut out because of the `num_words` or\n",
            "            `skip_top` limits will be replaced with this character.\n",
            "        index_from: int. Index actual words with this index and higher.\n",
            "    \n",
            "    Returns:\n",
            "        Tuple of Numpy arrays: `(x_train, y_train), (x_test, y_test)`.\n",
            "    \n",
            "    **`x_train`, `x_test`**: lists of sequences, which are lists of indexes\n",
            "      (integers). If the num_words argument was specific, the maximum\n",
            "      possible index value is `num_words - 1`. If the `maxlen` argument was\n",
            "      specified, the largest possible sequence length is `maxlen`.\n",
            "    \n",
            "    **`y_train`, `y_test`**: lists of integer labels (1 or 0).\n",
            "    \n",
            "    **Note**: The 'out of vocabulary' character is only used for\n",
            "    words that were present in the training set but are not included\n",
            "    because they're not making the `num_words` cut here.\n",
            "    Words that were not seen in the training set but are in the test set\n",
            "    have simply been skipped.\n",
            "\n"
          ]
        }
      ]
    },
    {
      "cell_type": "markdown",
      "source": [
        "####  Block 3:  Define functions called in subsequent blocks."
      ],
      "metadata": {
        "id": "--4gk9mBgvUn"
      }
    },
    {
      "cell_type": "code",
      "source": [
        "def decode_review(encoded_review, indices_to_words):\n",
        "    ''' Return a decoded review as a string. '''\n",
        "    ## Try to get the word from the IMDb dataset based on the newly mapped\n",
        "    ## index from indices_to_words, and return a complete review sentence with\n",
        "    ## words separated by  white spaces.\n",
        "    return ' '.join(indices_to_words[i] for i in encoded_review)\n",
        "\n",
        "n_validate = 10000\n",
        "\n",
        "def reviews_as_one_hot(reviews, dimension=n_validate):\n",
        "    ''' Use one-hot encoding to represent a set of reviews. '''\n",
        "    results = np.zeros((len(reviews), dimension))\n",
        "\n",
        "    for i, review in enumerate(reviews):\n",
        "        for j in review:\n",
        "            results[i, j] = 1.\n",
        "\n",
        "    return results"
      ],
      "metadata": {
        "id": "8J7TSQl0gyND"
      },
      "execution_count": 6,
      "outputs": []
    },
    {
      "cell_type": "markdown",
      "source": [
        "#### Block 4:  Load the IMDB dataset, keeping only the 10,000 most frequent words."
      ],
      "metadata": {
        "id": "da2PcDneNdzp"
      }
    },
    {
      "cell_type": "code",
      "source": [
        "# Assign default values of load_data arguments to convenience variables.\n",
        "start_char = 1\n",
        "oov_char = 2\n",
        "index_from = 3\n",
        "\n",
        "# Load the dataset.\n",
        "(train_data, train_labels), (test_data, test_labels) = imdb.load_data(\n",
        "    start_char=start_char,\n",
        "    oov_char=oov_char,\n",
        "    index_from=index_from,\n",
        "    num_words=n_validate)\n",
        "\n",
        "# Count the number of reviews in the datasets.\n",
        "n_train = len(train_data)\n",
        "n_test = len(test_data)"
      ],
      "metadata": {
        "id": "XqZ68l77Nn7T",
        "colab": {
          "base_uri": "https://localhost:8080/"
        },
        "outputId": "3cece960-1c64-48ae-fd06-b46ad50fef07"
      },
      "execution_count": 7,
      "outputs": [
        {
          "output_type": "stream",
          "name": "stdout",
          "text": [
            "Downloading data from https://storage.googleapis.com/tensorflow/tf-keras-datasets/imdb.npz\n",
            "\u001b[1m17464789/17464789\u001b[0m \u001b[32m━━━━━━━━━━━━━━━━━━━━\u001b[0m\u001b[37m\u001b[0m \u001b[1m0s\u001b[0m 0us/step\n"
          ]
        }
      ]
    },
    {
      "cell_type": "markdown",
      "source": [],
      "metadata": {
        "id": "f1PdRGgcIY2y"
      }
    },
    {
      "cell_type": "code",
      "source": [
        "print('- First review of the training dataset:', train_data[0])\n",
        "print('- Data type of first review:', type(train_data[0]))\n",
        "print('- Label used to classify it as positive or negative:', train_labels[0])\n",
        "print('- Number of reviews in the training dataset:', len(train_labels))\n",
        "\n",
        "## Does the review appear as expected based on your reading of the background\n",
        "## information?\n",
        "## -> The review appears as a sequence of integers rather than words.\n",
        "\n",
        "## Is the review positive or negative? Briefly explain how you reached your\n",
        "## conclusion\n",
        "## -> Despite I don't know the full and readable sentence, I can guess that this\n",
        "##    is a positive review since its label is 1.\n",
        "\n",
        "## Does the training set contain the advertised number of reviews?\n",
        "## -> Yes, the number of reviews is 25000 as advertised."
      ],
      "metadata": {
        "colab": {
          "base_uri": "https://localhost:8080/"
        },
        "id": "yR1fpz8LIQ-f",
        "outputId": "1de6bcd5-b8ce-4e51-edf6-691dbb2305e1"
      },
      "execution_count": 9,
      "outputs": [
        {
          "output_type": "stream",
          "name": "stdout",
          "text": [
            "- First review of the training dataset: [1, 14, 22, 16, 43, 530, 973, 1622, 1385, 65, 458, 4468, 66, 3941, 4, 173, 36, 256, 5, 25, 100, 43, 838, 112, 50, 670, 2, 9, 35, 480, 284, 5, 150, 4, 172, 112, 167, 2, 336, 385, 39, 4, 172, 4536, 1111, 17, 546, 38, 13, 447, 4, 192, 50, 16, 6, 147, 2025, 19, 14, 22, 4, 1920, 4613, 469, 4, 22, 71, 87, 12, 16, 43, 530, 38, 76, 15, 13, 1247, 4, 22, 17, 515, 17, 12, 16, 626, 18, 2, 5, 62, 386, 12, 8, 316, 8, 106, 5, 4, 2223, 5244, 16, 480, 66, 3785, 33, 4, 130, 12, 16, 38, 619, 5, 25, 124, 51, 36, 135, 48, 25, 1415, 33, 6, 22, 12, 215, 28, 77, 52, 5, 14, 407, 16, 82, 2, 8, 4, 107, 117, 5952, 15, 256, 4, 2, 7, 3766, 5, 723, 36, 71, 43, 530, 476, 26, 400, 317, 46, 7, 4, 2, 1029, 13, 104, 88, 4, 381, 15, 297, 98, 32, 2071, 56, 26, 141, 6, 194, 7486, 18, 4, 226, 22, 21, 134, 476, 26, 480, 5, 144, 30, 5535, 18, 51, 36, 28, 224, 92, 25, 104, 4, 226, 65, 16, 38, 1334, 88, 12, 16, 283, 5, 16, 4472, 113, 103, 32, 15, 16, 5345, 19, 178, 32]\n",
            "- Data type of first review: <class 'list'>\n",
            "- Label used to classify it as positive or negative: 1\n",
            "- Number of reviews in the training dataset: 25000\n"
          ]
        }
      ]
    },
    {
      "cell_type": "markdown",
      "source": [
        "#### Block 5:  Load the dictionary linking words in reviews to their rank in the frequency table.  Create a companion dictionary with words and ranks swapped (this is used to translate an encoded review to text)."
      ],
      "metadata": {
        "id": "1uE6ZRs9O5Sa"
      }
    },
    {
      "cell_type": "code",
      "source": [
        "# Load the word to rank dictionary.\n",
        "words_to_indices = keras.datasets.imdb.get_word_index()\n",
        "\n",
        "## Add a comment here that explains creation of the companion dictionary,\n",
        "## including addition of tags indicating the start of the review and words that\n",
        "## appear in the review but not in the work to rank dictionary.\n",
        "## -> From the dictionary of word and its corresponding index from the imdb\n",
        "##    dataset (words_to_indices), try to create a new dictionary that increase\n",
        "##    the original index by 3 (index_from) so that the new dictionary will have\n",
        "##    space for the first character which is \"[START]\" at index 1 and\n",
        "##    out-of-vocabulary character which is \"[OOV]\" at index 2.\n",
        "indices_to_words = {i + index_from: word for word, i in words_to_indices.items()}\n",
        "# Add entries for start and out-of-vocabulary.\n",
        "indices_to_words[start_char] = \"[START]\"\n",
        "indices_to_words[oov_char] = \"[OOV]\""
      ],
      "metadata": {
        "id": "n4RginiOO-hf",
        "colab": {
          "base_uri": "https://localhost:8080/"
        },
        "outputId": "8493afea-11be-429c-c695-21eae4aa94cf"
      },
      "execution_count": 10,
      "outputs": [
        {
          "output_type": "stream",
          "name": "stdout",
          "text": [
            "Downloading data from https://storage.googleapis.com/tensorflow/tf-keras-datasets/imdb_word_index.json\n",
            "\u001b[1m1641221/1641221\u001b[0m \u001b[32m━━━━━━━━━━━━━━━━━━━━\u001b[0m\u001b[37m\u001b[0m \u001b[1m0s\u001b[0m 0us/step\n"
          ]
        }
      ]
    },
    {
      "cell_type": "code",
      "source": [
        "print('- The number of words in the word to rank dictionary: ',\n",
        "      len(words_to_indices))\n",
        "# The index in imdb starts from 1, so first word should start from 4\n",
        "top_10_words = [\n",
        "    indices_to_words[i]\n",
        "    for i in range(1 + index_from, (1 + index_from) + 10)\n",
        "]\n",
        "\n",
        "print('- The ten most frequent words: ', top_10_words)\n",
        "\n",
        "## Only the 10,000 most frequent words were retained when the dataset was\n",
        "## loaded. What fraction of the total number of words in the dataset is this?\n",
        "print(\"- Fraction of words retained:\", 10000 / len(words_to_indices))\n",
        "\n",
        "## What are the ten most frequent words? Are you surprised by any of the words\n",
        "## in the list?\n",
        "## -> The top 10 words have been printed above. I was surprised by two words:\n",
        "##    'br' and 'i'. I don't know what 'br' means, but 'i' may stand for 'I'."
      ],
      "metadata": {
        "colab": {
          "base_uri": "https://localhost:8080/"
        },
        "id": "pHv6yBePM5dV",
        "outputId": "57bf832d-1323-4d2d-fe51-44941a0967d0"
      },
      "execution_count": 11,
      "outputs": [
        {
          "output_type": "stream",
          "name": "stdout",
          "text": [
            "- The number of words in the word to rank dictionary:  88584\n",
            "- The ten most frequent words:  ['the', 'and', 'a', 'of', 'to', 'is', 'br', 'in', 'it', 'i']\n",
            "- Fraction of words retained: 0.11288720310665583\n"
          ]
        }
      ]
    },
    {
      "cell_type": "markdown",
      "source": [
        "#### Block 6:  Reconstruct a randomly selected review from the training set back to text as a check."
      ],
      "metadata": {
        "id": "NbWO9EOohxIL"
      }
    },
    {
      "cell_type": "code",
      "source": [
        "# Construct a (pseudo)random number generator.\n",
        "rng = np.random.default_rng()\n",
        "\n",
        "# Generate the index of a randomly chosen review.\n",
        "i = rng.integers(0, n_train)\n",
        "\n",
        "# Display the sentiment of the chosen review.\n",
        "if train_labels[i] == 0:\n",
        "    print('The following review has been classified as negative.')\n",
        "else:\n",
        "    print('The following review has been classified as positive.')\n",
        "\n",
        "# Decode the chosen review.  Display it using pretty print.\n",
        "review = decode_review(train_data[i], indices_to_words)\n",
        "pprint.pprint(review)\n",
        "\n",
        "## Write a comment here briefly stating whether you agree with the\n",
        "## sentiment assigned in the dataset and why.\n",
        "## -> I agree that the review below is positive because the viewer was gradually\n",
        "##    engaged as the film went on."
      ],
      "metadata": {
        "id": "VmruWgNHh0YC",
        "colab": {
          "base_uri": "https://localhost:8080/"
        },
        "outputId": "4cb31c54-0278-4711-eb09-43312dd13f04"
      },
      "execution_count": 22,
      "outputs": [
        {
          "output_type": "stream",
          "name": "stdout",
          "text": [
            "The following review has been classified as positive.\n",
            "('[START] [OOV] [OOV] is one little small brilliant i started watching it and '\n",
            " 'at the beginning i got a little bored since the pacing was slow and the main '\n",
            " 'idea of one guy meeting a girl who is lost was not really new but as the '\n",
            " 'film went on i started getting increasingly and gradually engaged by the '\n",
            " 'film the fantastic writing and the charming romance the film was extremely '\n",
            " 'simple and natural and after some time i felt i was watching a real [OOV] of '\n",
            " \"one guy's life there's one very good reason the film got this feel and it's \"\n",
            " 'the fresh talent called [OOV] [OOV] he is extremely convincing as the simple '\n",
            " 'kind hearted and struggling [OOV] whose new love [OOV] him to make [OOV] and '\n",
            " 'fight for a better life throughout the film he is presented as an ordinary '\n",
            " 'mischievous [OOV] but also as a helping and loving person who like anyone '\n",
            " 'else will do anything to protect his love [OOV] portrays all the different '\n",
            " 'shades of his character whether positive or negative naturally and with '\n",
            " 'complete ease br br [OOV] [OOV] direction is very good his depiction of the '\n",
            " 'life of people in the rural [OOV] is excellent but what gets to be even more '\n",
            " 'impressive is his portrayal of [OOV] relationships with the different people '\n",
            " 'who surround him including his friends and his love interest [OOV] who he is '\n",
            " 'ready to do anything for i also immensely liked the way [OOV] portrayed his '\n",
            " \"interaction with his friend's loud and [OOV] mother whom he calls [OOV] \"\n",
            " '[OOV] he likes to drive her crazy and annoy her on every occasion yet we see '\n",
            " 'that she [OOV] a very special place in his heart and is like a mother figure '\n",
            " 'to him as [OOV] in several scenes except for [OOV] the rest of the cast '\n",
            " 'performed well though [OOV] ali khan did not stand out according to me she '\n",
            " \"was good and had some of her mother's charm the actors who played [OOV] \"\n",
            " 'friends were very good as was the actress who played [OOV] [OOV] br br apart '\n",
            " \"from the performances the film's writing was outstanding the dialogues were \"\n",
            " \"sort of ordinary yet brilliant and the script was also fantastic that's \"\n",
            " 'mainly because despite a not so new story it was never overdone or '\n",
            " 'melodramatic and there were no attempts to make it look larger than life the '\n",
            " \"film's biggest weakness was [OOV] [OOV] uninspiring music which was [OOV] \"\n",
            " 'for this film otherwise [OOV] [OOV] was a delightful watch and it got only '\n",
            " 'better with every scene the concept may not be new but the film manages to '\n",
            " 'look fresh and becomes increasingly heartwarming as the story goes by the '\n",
            " 'ending was bittersweet kind of sad yet optimistic in short this movie really '\n",
            " 'grows on you slowly and this can be easily attributed to the wonderful '\n",
            " 'writing the moving moments the charming romance the realistic proceedings '\n",
            " 'and of course [OOV] [OOV] memorable performance')\n"
          ]
        }
      ]
    },
    {
      "cell_type": "markdown",
      "source": [
        "#### Block 7:  Recode the training and test data sets."
      ],
      "metadata": {
        "id": "pEl4XWdxhnv8"
      }
    },
    {
      "cell_type": "code",
      "source": [
        "x_train = reviews_as_one_hot(train_data)\n",
        "y_train = train_labels.copy()\n",
        "x_test = reviews_as_one_hot(test_data)\n",
        "y_test = test_labels.copy()"
      ],
      "metadata": {
        "id": "pQOtDHcohrh2"
      },
      "execution_count": 23,
      "outputs": []
    },
    {
      "cell_type": "code",
      "source": [
        "type(train_data)"
      ],
      "metadata": {
        "colab": {
          "base_uri": "https://localhost:8080/"
        },
        "id": "_JLJmi4HnE5I",
        "outputId": "45e797d2-9f66-46d1-fd3f-9f476caef758"
      },
      "execution_count": 38,
      "outputs": [
        {
          "output_type": "execute_result",
          "data": {
            "text/plain": [
              "numpy.ndarray"
            ]
          },
          "metadata": {},
          "execution_count": 38
        }
      ]
    },
    {
      "cell_type": "code",
      "source": [
        "x_train.shape"
      ],
      "metadata": {
        "colab": {
          "base_uri": "https://localhost:8080/"
        },
        "id": "vddR0zK0kWkg",
        "outputId": "2dfadf8e-275a-498d-e05d-44a02722f163"
      },
      "execution_count": 26,
      "outputs": [
        {
          "output_type": "execute_result",
          "data": {
            "text/plain": [
              "(25000, 10000)"
            ]
          },
          "metadata": {},
          "execution_count": 26
        }
      ]
    },
    {
      "cell_type": "code",
      "source": [
        "## Check the size of the input array against the expectations spelled out above.\n",
        "print(f'The number of rows of the training input array, {train_data.shape[0]},',\n",
        "      'is correct.')\n",
        "print('The number of rows of the training input array after encoded is',\n",
        "      x_train.shape[0])\n",
        "print('The number of columns of the training input array after encoded is',\n",
        "      x_train.shape[1])\n",
        "\n",
        "## -> So after encoded the training data, the produced result (x_train) has the\n",
        "##    number of columns increased from 1 to 10000, while the number of rows are kept unchanged.\n",
        "\n",
        "## -> The encoded test data has same result."
      ],
      "metadata": {
        "colab": {
          "base_uri": "https://localhost:8080/"
        },
        "id": "XKh0dE0ZnZHt",
        "outputId": "35b1bd41-9cfd-43e8-f402-37f9ca5b2d3a"
      },
      "execution_count": 45,
      "outputs": [
        {
          "output_type": "stream",
          "name": "stdout",
          "text": [
            "The number of rows of the training input array, 25000, is correct.\n",
            "The number of rows of the training input array after encoded is 25000\n",
            "The number of columns of the training input array after encoded is 10000\n"
          ]
        }
      ]
    },
    {
      "cell_type": "markdown",
      "source": [
        "#### Block 8:  Build the model."
      ],
      "metadata": {
        "id": "mvJ-p7Xcmqtx"
      }
    },
    {
      "cell_type": "code",
      "source": [
        "model = keras.Sequential([\n",
        "    ## 2 input layers\n",
        "    layers.Dense(16, activation=\"relu\"),\n",
        "    layers.Dense(16, activation=\"relu\"),\n",
        "    ## 1 output layer\n",
        "    layers.Dense(1, activation=\"sigmoid\")\n",
        "])\n",
        "model.compile(optimizer=\"rmsprop\",\n",
        "              loss=\"binary_crossentropy\",\n",
        "              metrics=[\"accuracy\"])"
      ],
      "metadata": {
        "id": "RvypdqYOmtka"
      },
      "execution_count": 46,
      "outputs": []
    },
    {
      "cell_type": "markdown",
      "source": [
        "#### Block 9:  Reserve part of the training data set for validation."
      ],
      "metadata": {
        "id": "qENOxljAwnZu"
      }
    },
    {
      "cell_type": "code",
      "source": [
        "# Reserve some of the reviews and labels for validation.\n",
        "n_validate = 10000\n",
        "x_validate = x_train[:n_validate]\n",
        "y_validate = y_train[:n_validate]\n",
        "x_train_part = x_train[n_validate:]\n",
        "y_train_part = y_train[n_validate:]"
      ],
      "metadata": {
        "id": "HyjL_EkbwrHY"
      },
      "execution_count": 47,
      "outputs": []
    },
    {
      "cell_type": "markdown",
      "source": [
        "#### Block 10:  Train the model"
      ],
      "metadata": {
        "id": "TP8_jXWKymCE"
      }
    },
    {
      "cell_type": "code",
      "source": [
        "n_epochs = 20\n",
        "n_batch = 512\n",
        "history = model.fit(x_train_part,\n",
        "                    y_train_part,\n",
        "                    epochs=n_epochs,\n",
        "                    batch_size=n_batch,\n",
        "                    validation_data=(x_validate, y_validate))\n",
        "## Record an estimate of the average epoch time here.\n",
        "## -> (max + min) / 2 = (112 + 35) / 2 = 73.5ms"
      ],
      "metadata": {
        "id": "1Y84q28OysCz",
        "colab": {
          "base_uri": "https://localhost:8080/"
        },
        "outputId": "c70e7d10-ffbb-46de-9efd-a7bb8fce1943"
      },
      "execution_count": 48,
      "outputs": [
        {
          "output_type": "stream",
          "name": "stdout",
          "text": [
            "Epoch 1/20\n",
            "\u001b[1m30/30\u001b[0m \u001b[32m━━━━━━━━━━━━━━━━━━━━\u001b[0m\u001b[37m\u001b[0m \u001b[1m6s\u001b[0m 112ms/step - accuracy: 0.7020 - loss: 0.5854 - val_accuracy: 0.8679 - val_loss: 0.3792\n",
            "Epoch 2/20\n",
            "\u001b[1m30/30\u001b[0m \u001b[32m━━━━━━━━━━━━━━━━━━━━\u001b[0m\u001b[37m\u001b[0m \u001b[1m5s\u001b[0m 98ms/step - accuracy: 0.9020 - loss: 0.3187 - val_accuracy: 0.8825 - val_loss: 0.3093\n",
            "Epoch 3/20\n",
            "\u001b[1m30/30\u001b[0m \u001b[32m━━━━━━━━━━━━━━━━━━━━\u001b[0m\u001b[37m\u001b[0m \u001b[1m4s\u001b[0m 51ms/step - accuracy: 0.9297 - loss: 0.2302 - val_accuracy: 0.8909 - val_loss: 0.2814\n",
            "Epoch 4/20\n",
            "\u001b[1m30/30\u001b[0m \u001b[32m━━━━━━━━━━━━━━━━━━━━\u001b[0m\u001b[37m\u001b[0m \u001b[1m2s\u001b[0m 39ms/step - accuracy: 0.9438 - loss: 0.1833 - val_accuracy: 0.8829 - val_loss: 0.2878\n",
            "Epoch 5/20\n",
            "\u001b[1m30/30\u001b[0m \u001b[32m━━━━━━━━━━━━━━━━━━━━\u001b[0m\u001b[37m\u001b[0m \u001b[1m2s\u001b[0m 54ms/step - accuracy: 0.9527 - loss: 0.1539 - val_accuracy: 0.8791 - val_loss: 0.3001\n",
            "Epoch 6/20\n",
            "\u001b[1m30/30\u001b[0m \u001b[32m━━━━━━━━━━━━━━━━━━━━\u001b[0m\u001b[37m\u001b[0m \u001b[1m3s\u001b[0m 66ms/step - accuracy: 0.9601 - loss: 0.1296 - val_accuracy: 0.8632 - val_loss: 0.3584\n",
            "Epoch 7/20\n",
            "\u001b[1m30/30\u001b[0m \u001b[32m━━━━━━━━━━━━━━━━━━━━\u001b[0m\u001b[37m\u001b[0m \u001b[1m2s\u001b[0m 66ms/step - accuracy: 0.9657 - loss: 0.1128 - val_accuracy: 0.8759 - val_loss: 0.3275\n",
            "Epoch 8/20\n",
            "\u001b[1m30/30\u001b[0m \u001b[32m━━━━━━━━━━━━━━━━━━━━\u001b[0m\u001b[37m\u001b[0m \u001b[1m2s\u001b[0m 63ms/step - accuracy: 0.9738 - loss: 0.0927 - val_accuracy: 0.8783 - val_loss: 0.3386\n",
            "Epoch 9/20\n",
            "\u001b[1m30/30\u001b[0m \u001b[32m━━━━━━━━━━━━━━━━━━━━\u001b[0m\u001b[37m\u001b[0m \u001b[1m4s\u001b[0m 100ms/step - accuracy: 0.9816 - loss: 0.0751 - val_accuracy: 0.8807 - val_loss: 0.3333\n",
            "Epoch 10/20\n",
            "\u001b[1m30/30\u001b[0m \u001b[32m━━━━━━━━━━━━━━━━━━━━\u001b[0m\u001b[37m\u001b[0m \u001b[1m4s\u001b[0m 65ms/step - accuracy: 0.9839 - loss: 0.0658 - val_accuracy: 0.8779 - val_loss: 0.3616\n",
            "Epoch 11/20\n",
            "\u001b[1m30/30\u001b[0m \u001b[32m━━━━━━━━━━━━━━━━━━━━\u001b[0m\u001b[37m\u001b[0m \u001b[1m2s\u001b[0m 42ms/step - accuracy: 0.9874 - loss: 0.0555 - val_accuracy: 0.8739 - val_loss: 0.3783\n",
            "Epoch 12/20\n",
            "\u001b[1m30/30\u001b[0m \u001b[32m━━━━━━━━━━━━━━━━━━━━\u001b[0m\u001b[37m\u001b[0m \u001b[1m1s\u001b[0m 35ms/step - accuracy: 0.9926 - loss: 0.0442 - val_accuracy: 0.8751 - val_loss: 0.3975\n",
            "Epoch 13/20\n",
            "\u001b[1m30/30\u001b[0m \u001b[32m━━━━━━━━━━━━━━━━━━━━\u001b[0m\u001b[37m\u001b[0m \u001b[1m1s\u001b[0m 40ms/step - accuracy: 0.9925 - loss: 0.0375 - val_accuracy: 0.8746 - val_loss: 0.4170\n",
            "Epoch 14/20\n",
            "\u001b[1m30/30\u001b[0m \u001b[32m━━━━━━━━━━━━━━━━━━━━\u001b[0m\u001b[37m\u001b[0m \u001b[1m1s\u001b[0m 36ms/step - accuracy: 0.9961 - loss: 0.0271 - val_accuracy: 0.8750 - val_loss: 0.4380\n",
            "Epoch 15/20\n",
            "\u001b[1m30/30\u001b[0m \u001b[32m━━━━━━━━━━━━━━━━━━━━\u001b[0m\u001b[37m\u001b[0m \u001b[1m2s\u001b[0m 75ms/step - accuracy: 0.9983 - loss: 0.0210 - val_accuracy: 0.8709 - val_loss: 0.4858\n",
            "Epoch 16/20\n",
            "\u001b[1m30/30\u001b[0m \u001b[32m━━━━━━━━━━━━━━━━━━━━\u001b[0m\u001b[37m\u001b[0m \u001b[1m2s\u001b[0m 65ms/step - accuracy: 0.9974 - loss: 0.0241 - val_accuracy: 0.8727 - val_loss: 0.4874\n",
            "Epoch 17/20\n",
            "\u001b[1m30/30\u001b[0m \u001b[32m━━━━━━━━━━━━━━━━━━━━\u001b[0m\u001b[37m\u001b[0m \u001b[1m2s\u001b[0m 43ms/step - accuracy: 0.9981 - loss: 0.0166 - val_accuracy: 0.8663 - val_loss: 0.5201\n",
            "Epoch 18/20\n",
            "\u001b[1m30/30\u001b[0m \u001b[32m━━━━━━━━━━━━━━━━━━━━\u001b[0m\u001b[37m\u001b[0m \u001b[1m1s\u001b[0m 36ms/step - accuracy: 0.9997 - loss: 0.0113 - val_accuracy: 0.8675 - val_loss: 0.5675\n",
            "Epoch 19/20\n",
            "\u001b[1m30/30\u001b[0m \u001b[32m━━━━━━━━━━━━━━━━━━━━\u001b[0m\u001b[37m\u001b[0m \u001b[1m1s\u001b[0m 36ms/step - accuracy: 0.9995 - loss: 0.0105 - val_accuracy: 0.8686 - val_loss: 0.5607\n",
            "Epoch 20/20\n",
            "\u001b[1m30/30\u001b[0m \u001b[32m━━━━━━━━━━━━━━━━━━━━\u001b[0m\u001b[37m\u001b[0m \u001b[1m1s\u001b[0m 43ms/step - accuracy: 0.9991 - loss: 0.0087 - val_accuracy: 0.8691 - val_loss: 0.5786\n"
          ]
        }
      ]
    },
    {
      "cell_type": "code",
      "source": [
        "help(tf.keras.Model.fit)"
      ],
      "metadata": {
        "colab": {
          "base_uri": "https://localhost:8080/"
        },
        "id": "-QcnhRWUsQp0",
        "outputId": "4c898c30-7d51-46b4-9165-f3f0e3c01725"
      },
      "execution_count": 52,
      "outputs": [
        {
          "output_type": "stream",
          "name": "stdout",
          "text": [
            "Help on function fit in module keras.src.backend.tensorflow.trainer:\n",
            "\n",
            "fit(self, x=None, y=None, batch_size=None, epochs=1, verbose='auto', callbacks=None, validation_split=0.0, validation_data=None, shuffle=True, class_weight=None, sample_weight=None, initial_epoch=0, steps_per_epoch=None, validation_steps=None, validation_batch_size=None, validation_freq=1)\n",
            "    Trains the model for a fixed number of epochs (dataset iterations).\n",
            "    \n",
            "    Args:\n",
            "        x: Input data. It can be:\n",
            "            - A NumPy array (or array-like), or a list of arrays\n",
            "            (in case the model has multiple inputs).\n",
            "            - A backend-native tensor, or a list of tensors\n",
            "            (in case the model has multiple inputs).\n",
            "            - A dict mapping input names to the corresponding array/tensors,\n",
            "            if the model has named inputs.\n",
            "            - A `keras.utils.PyDataset` returning `(inputs, targets)` or\n",
            "            `(inputs, targets, sample_weights)`.\n",
            "            - A `tf.data.Dataset` yielding `(inputs, targets)` or\n",
            "            `(inputs, targets, sample_weights)`.\n",
            "            - A `torch.utils.data.DataLoader` yielding `(inputs, targets)`\n",
            "            or `(inputs, targets, sample_weights)`.\n",
            "            - A Python generator function yielding `(inputs, targets)` or\n",
            "            `(inputs, targets, sample_weights)`.\n",
            "        y: Target data. Like the input data `x`, it can be either NumPy\n",
            "            array(s) or backend-native tensor(s). If `x` is a\n",
            "            `keras.utils.PyDataset`, `tf.data.Dataset`,\n",
            "            `torch.utils.data.DataLoader` or a Python generator function,\n",
            "            `y` should not be specified since targets will be obtained from\n",
            "            `x`.\n",
            "        batch_size: Integer or `None`.\n",
            "            Number of samples per gradient update.\n",
            "            If unspecified, `batch_size` will default to 32.\n",
            "            Do not specify the `batch_size` if your input data `x` is a\n",
            "            `keras.utils.PyDataset`, `tf.data.Dataset`,\n",
            "            `torch.utils.data.DataLoader` or Python generator function\n",
            "            since they generate batches.\n",
            "        epochs: Integer. Number of epochs to train the model.\n",
            "            An epoch is an iteration over the entire `x` and `y`\n",
            "            data provided\n",
            "            (unless the `steps_per_epoch` flag is set to\n",
            "            something other than None).\n",
            "            Note that in conjunction with `initial_epoch`,\n",
            "            `epochs` is to be understood as \"final epoch\".\n",
            "            The model is not trained for a number of iterations\n",
            "            given by `epochs`, but merely until the epoch\n",
            "            of index `epochs` is reached.\n",
            "        verbose: `\"auto\"`, 0, 1, or 2. Verbosity mode.\n",
            "            0 = silent, 1 = progress bar, 2 = one line per epoch.\n",
            "            \"auto\" becomes 1 for most cases.\n",
            "            Note that the progress bar is not\n",
            "            particularly useful when logged to a file,\n",
            "            so `verbose=2` is recommended when not running interactively\n",
            "            (e.g., in a production environment). Defaults to `\"auto\"`.\n",
            "        callbacks: List of `keras.callbacks.Callback` instances.\n",
            "            List of callbacks to apply during training.\n",
            "            See `keras.callbacks`. Note\n",
            "            `keras.callbacks.ProgbarLogger` and\n",
            "            `keras.callbacks.History` callbacks are created\n",
            "            automatically and need not be passed to `model.fit()`.\n",
            "            `keras.callbacks.ProgbarLogger` is created\n",
            "            or not based on the `verbose` argument in `model.fit()`.\n",
            "        validation_split: Float between 0 and 1.\n",
            "            Fraction of the training data to be used as validation data.\n",
            "            The model will set apart this fraction of the training data,\n",
            "            will not train on it, and will evaluate the loss and any model\n",
            "            metrics on this data at the end of each epoch. The validation\n",
            "            data is selected from the last samples in the `x` and `y` data\n",
            "            provided, before shuffling.\n",
            "            This argument is only supported when `x` and `y` are made of\n",
            "            NumPy arrays or tensors.\n",
            "            If both `validation_data` and `validation_split` are provided,\n",
            "            `validation_data` will override `validation_split`.\n",
            "        validation_data: Data on which to evaluate\n",
            "            the loss and any model metrics at the end of each epoch.\n",
            "            The model will not be trained on this data. Thus, note the fact\n",
            "            that the validation loss of data provided using\n",
            "            `validation_split` or `validation_data` is not affected by\n",
            "            regularization layers like noise and dropout.\n",
            "            `validation_data` will override `validation_split`.\n",
            "            It can be:\n",
            "            - A tuple `(x_val, y_val)` of NumPy arrays or tensors.\n",
            "            - A tuple `(x_val, y_val, val_sample_weights)` of NumPy\n",
            "            arrays.\n",
            "            - A `keras.utils.PyDataset`, a `tf.data.Dataset`, a\n",
            "            `torch.utils.data.DataLoader` yielding `(inputs, targets)` or a\n",
            "            Python generator function yielding `(x_val, y_val)` or\n",
            "            `(inputs, targets, sample_weights)`.\n",
            "        shuffle: Boolean, whether to shuffle the training data before each\n",
            "            epoch. This argument is ignored when `x` is a\n",
            "            `keras.utils.PyDataset`, `tf.data.Dataset`,\n",
            "            `torch.utils.data.DataLoader` or Python generator function.\n",
            "        class_weight: Optional dictionary mapping class indices (integers)\n",
            "            to a weight (float) value, used for weighting the loss function\n",
            "            (during training only).\n",
            "            This can be useful to tell the model to\n",
            "            \"pay more attention\" to samples from\n",
            "            an under-represented class. When `class_weight` is specified\n",
            "            and targets have a rank of 2 or greater, either `y` must be\n",
            "            one-hot encoded, or an explicit final dimension of `1` must\n",
            "            be included for sparse class labels.\n",
            "        sample_weight: Optional NumPy array or tensor of weights for\n",
            "            the training samples, used for weighting the loss function\n",
            "            (during training only). You can either pass a flat (1D)\n",
            "            NumPy array or tensor with the same length as the input samples\n",
            "            (1:1 mapping between weights and samples), or in the case of\n",
            "            temporal data, you can pass a 2D NumPy array or tensor with\n",
            "            shape `(samples, sequence_length)` to apply a different weight\n",
            "            to every timestep of every sample.\n",
            "            This argument is not supported when `x` is a\n",
            "            `keras.utils.PyDataset`, `tf.data.Dataset`,\n",
            "            `torch.utils.data.DataLoader` or Python generator function.\n",
            "            Instead, provide `sample_weights` as the third element of `x`.\n",
            "            Note that sample weighting does not apply to metrics specified\n",
            "            via the `metrics` argument in `compile()`. To apply sample\n",
            "            weighting to your metrics, you can specify them via the\n",
            "            `weighted_metrics` in `compile()` instead.\n",
            "        initial_epoch: Integer.\n",
            "            Epoch at which to start training\n",
            "            (useful for resuming a previous training run).\n",
            "        steps_per_epoch: Integer or `None`.\n",
            "            Total number of steps (batches of samples) before declaring one\n",
            "            epoch finished and starting the next epoch. When training with\n",
            "            input tensors or NumPy arrays, the default `None` means that the\n",
            "            value used is the number of samples in your dataset divided by\n",
            "            the batch size, or 1 if that cannot be determined.\n",
            "            If `x` is a `keras.utils.PyDataset`, `tf.data.Dataset`,\n",
            "            `torch.utils.data.DataLoader` or Python generator function, the\n",
            "            epoch will run until the input dataset is exhausted. When\n",
            "            passing an infinitely repeating dataset, you must specify the\n",
            "            `steps_per_epoch` argument, otherwise the training will run\n",
            "            indefinitely.\n",
            "        validation_steps: Integer or `None`.\n",
            "            Only relevant if `validation_data` is provided.\n",
            "            Total number of steps (batches of samples) to draw before\n",
            "            stopping when performing validation at the end of every epoch.\n",
            "            If `validation_steps` is `None`, validation will run until the\n",
            "            `validation_data` dataset is exhausted. In the case of an\n",
            "            infinitely repeating dataset, it will run indefinitely. If\n",
            "            `validation_steps` is specified and only part of the dataset\n",
            "            is consumed, the evaluation will start from the beginning of the\n",
            "            dataset at each epoch. This ensures that the same validation\n",
            "            samples are used every time.\n",
            "        validation_batch_size: Integer or `None`.\n",
            "            Number of samples per validation batch.\n",
            "            If unspecified, will default to `batch_size`.\n",
            "            Do not specify the `validation_batch_size` if your data is a\n",
            "            `keras.utils.PyDataset`, `tf.data.Dataset`,\n",
            "            `torch.utils.data.DataLoader` or Python generator function\n",
            "            since they generate batches.\n",
            "        validation_freq: Only relevant if validation data is provided.\n",
            "            Specifies how many training epochs to run\n",
            "            before a new validation run is performed,\n",
            "            e.g. `validation_freq=2` runs validation every 2 epochs.\n",
            "    \n",
            "    Unpacking behavior for iterator-like inputs:\n",
            "        A common pattern is to pass an iterator like object such as a\n",
            "        `tf.data.Dataset` or a `keras.utils.PyDataset` to `fit()`,\n",
            "        which will in fact yield not only features (`x`)\n",
            "        but optionally targets (`y`) and sample weights (`sample_weight`).\n",
            "        Keras requires that the output of such iterator-likes be\n",
            "        unambiguous. The iterator should return a tuple\n",
            "        of length 1, 2, or 3, where the optional second and third elements\n",
            "        will be used for `y` and `sample_weight` respectively.\n",
            "        Any other type provided will be wrapped in\n",
            "        a length-one tuple, effectively treating everything as `x`. When\n",
            "        yielding dicts, they should still adhere to the top-level tuple\n",
            "        structure,\n",
            "        e.g. `({\"x0\": x0, \"x1\": x1}, y)`. Keras will not attempt to separate\n",
            "        features, targets, and weights from the keys of a single dict.\n",
            "        A notable unsupported data type is the `namedtuple`. The reason is\n",
            "        that it behaves like both an ordered datatype (tuple) and a mapping\n",
            "        datatype (dict). So given a namedtuple of the form:\n",
            "        `namedtuple(\"example_tuple\", [\"y\", \"x\"])`\n",
            "        it is ambiguous whether to reverse the order of the elements when\n",
            "        interpreting the value. Even worse is a tuple of the form:\n",
            "        `namedtuple(\"other_tuple\", [\"x\", \"y\", \"z\"])`\n",
            "        where it is unclear if the tuple was intended to be unpacked\n",
            "        into `x`, `y`, and `sample_weight` or passed through\n",
            "        as a single element to `x`.\n",
            "    \n",
            "    Returns:\n",
            "        A `History` object. Its `History.history` attribute is\n",
            "        a record of training loss values and metrics values\n",
            "        at successive epochs, as well as validation loss values\n",
            "        and validation metrics values (if applicable).\n",
            "\n"
          ]
        }
      ]
    },
    {
      "cell_type": "markdown",
      "source": [
        "#### Block 11:  Visualize the training history."
      ],
      "metadata": {
        "id": "c9y1s8M4zeCE"
      }
    },
    {
      "cell_type": "code",
      "source": [
        "history_dict = history.history\n",
        "training_loss = history_dict['loss']\n",
        "validation_loss = history_dict['val_loss']\n",
        "training_accuracy = history_dict['accuracy']\n",
        "validation_accuracy = history_dict['val_accuracy']\n",
        "idx_epochs = range(1, n_epochs+1)\n",
        "fig, axs = plt.subplots(1, 2, figsize=(10, 4))\n",
        "axs[0].plot(idx_epochs, validation_loss, color=(0.0, 0.5, 0.0),\n",
        "            label='validation\\nloss')\n",
        "axs[0].plot(idx_epochs, training_loss, 'b', label='training\\nloss')\n",
        "axs[0].set_xticks(range(2, n_epochs+1, 4))\n",
        "axs[0].set_xlabel(r'$i_{epoch}$', labelpad=5)\n",
        "axs[0].set_ylabel('loss', labelpad=10)\n",
        "axs[0].legend(loc='center right', frameon=False)\n",
        "axs[1].plot(idx_epochs, training_accuracy, 'b', label='training\\naccuracy')\n",
        "axs[1].plot(idx_epochs, validation_accuracy, color=(0.0, 0.5, 0.0),\n",
        "            label='validation\\naccuracy')\n",
        "axs[1].set_xticks(range(2, n_epochs+1, 4))\n",
        "axs[1].set_xlabel(r'$i_{epoch}$', labelpad=5)\n",
        "axs[1].set_ylabel('accuracy', labelpad=10)\n",
        "axs[1].legend(loc='center right', frameon=False, bbox_to_anchor=(0.9, 0.65),\n",
        "              bbox_transform=fig.transFigure)\n",
        "fig.subplots_adjust(wspace=0.3)\n",
        "fig.show()\n",
        "## Insert a code cell here to contain your answers to the questions in the\n",
        "## subsection on visualizing the training history."
      ],
      "metadata": {
        "id": "P5tBFj1n3TZP",
        "colab": {
          "base_uri": "https://localhost:8080/",
          "height": 397
        },
        "outputId": "4a58df2f-162c-4d69-bb4b-0a4c72fe7260"
      },
      "execution_count": 53,
      "outputs": [
        {
          "output_type": "display_data",
          "data": {
            "text/plain": [
              "<Figure size 1000x400 with 2 Axes>"
            ],
            "image/png": "[encoded data removed]"
          },
          "metadata": {}
        }
      ]
    },
    {
      "cell_type": "code",
      "source": [
        "## Which can be described as a direct relationship? Which can be described as an\n",
        "## inverse relationship? Which are neither a direct relationship nor an inverse\n",
        "## relationship?\n",
        "## -> I can see that training accuracy and epoch number have direct relationship\n",
        "##    because the training accuracy increases as the number of epochs increases.\n",
        "## -> Meanwhile, training loss and epoch number have inverse relationship\n",
        "##    because the training loss decreases as the number of epochs increases.\n",
        "## -> The validation loss and epoch number can be considered as inverse\n",
        "##    relationship because the validation loss decreases a bit at the beginning\n",
        "##    but then increases as the number of epochs increases.\n",
        "## -> The validation loss and training loss can be considered as inverse\n",
        "##    relationship too since the validation loss increases as the training loss\n",
        "##    increases.\n",
        "## -> validation accuracy is neither a direct relationship nor an inverse\n",
        "##    relationship because it is likely stable when epoch number increases.\n",
        "\n",
        "## Drawing on your experience from Machine Learning, comment on the divergence\n",
        "## between the validation loss and the training loss.\n",
        "## -> The validation loss increases as the training loss increases.This is a\n",
        "##    sign of overfitting (learning well on training data but not generalizing\n",
        "##    well to new data).\n",
        "\n",
        "## Based on the figure, estimate the number of epochs that will result in the\n",
        "## best model. Briefly discuss how you arrived at your estimate, included how\n",
        "## you defined “best”.\n",
        "## -> I believe the best epoch is the point where validation loss is lowest and\n",
        "##    validation accuracy is highest. And I can see it locates at the third\n",
        "##    epoch. So number of epochs that will result in the best model is 3."
      ],
      "metadata": {
        "id": "08eJsnGhuInL"
      },
      "execution_count": null,
      "outputs": []
    },
    {
      "cell_type": "markdown",
      "source": [
        "#### Block 12:  Retrain the model, from the ground up."
      ],
      "metadata": {
        "id": "NHp_ICUbI_0N"
      }
    },
    {
      "cell_type": "code",
      "source": [
        "# Reset the number of epochs, based on prior results.\n",
        "n_epochs = 3\n",
        "# Define the model afresh.\n",
        "model = keras.Sequential([\n",
        "    layers.Dense(16, activation=\"relu\"),\n",
        "    layers.Dense(16, activation=\"relu\"),\n",
        "    layers.Dense(1, activation=\"sigmoid\")\n",
        "])\n",
        "# Rebuild the model.\n",
        "model.compile(optimizer=\"rmsprop\",\n",
        "              loss=\"binary_crossentropy\",\n",
        "              metrics=[\"accuracy\"])\n",
        "# Retrain the model, using the entire training data set.\n",
        "model.fit(x_train, y_train, epochs=n_epochs, batch_size=n_batch)"
      ],
      "metadata": {
        "id": "ySIDPuYCJEx4",
        "colab": {
          "base_uri": "https://localhost:8080/"
        },
        "outputId": "3315c64c-81c7-4b63-bf0e-d87e73332553"
      },
      "execution_count": 55,
      "outputs": [
        {
          "output_type": "stream",
          "name": "stdout",
          "text": [
            "Epoch 1/3\n",
            "\u001b[1m49/49\u001b[0m \u001b[32m━━━━━━━━━━━━━━━━━━━━\u001b[0m\u001b[37m\u001b[0m \u001b[1m4s\u001b[0m 33ms/step - accuracy: 0.7349 - loss: 0.5574\n",
            "Epoch 2/3\n",
            "\u001b[1m49/49\u001b[0m \u001b[32m━━━━━━━━━━━━━━━━━━━━\u001b[0m\u001b[37m\u001b[0m \u001b[1m3s\u001b[0m 52ms/step - accuracy: 0.9026 - loss: 0.2841\n",
            "Epoch 3/3\n",
            "\u001b[1m49/49\u001b[0m \u001b[32m━━━━━━━━━━━━━━━━━━━━\u001b[0m\u001b[37m\u001b[0m \u001b[1m4s\u001b[0m 28ms/step - accuracy: 0.9274 - loss: 0.2147\n"
          ]
        },
        {
          "output_type": "execute_result",
          "data": {
            "text/plain": [
              "<keras.src.callbacks.history.History at 0x7d9f766e5bd0>"
            ]
          },
          "metadata": {},
          "execution_count": 55
        }
      ]
    },
    {
      "cell_type": "markdown",
      "source": [
        "#### Block 13:  Evaluate the retrained model."
      ],
      "metadata": {
        "id": "sFu3-nYkMglz"
      }
    },
    {
      "cell_type": "code",
      "source": [
        "results = model.evaluate(x_test, y_test, return_dict=True)\n",
        "test_accuracy_pct = 100*results['accuracy']\n",
        "test_loss = results['loss']\n",
        "results_str = 'The model has an accuracy of {:.2f}%, with a loss of {:.2f}.'\n",
        "print(results_str.format(test_accuracy_pct, test_loss))\n",
        "## Record the accuracy and loss here.\n",
        "## -> The model has an accuracy of 88.91%, with a loss of 0.28."
      ],
      "metadata": {
        "id": "LL8QWl3VLkPT",
        "colab": {
          "base_uri": "https://localhost:8080/"
        },
        "outputId": "00247128-3bbf-41b9-c0ba-6c4030f03ca5"
      },
      "execution_count": 56,
      "outputs": [
        {
          "output_type": "stream",
          "name": "stdout",
          "text": [
            "\u001b[1m782/782\u001b[0m \u001b[32m━━━━━━━━━━━━━━━━━━━━\u001b[0m\u001b[37m\u001b[0m \u001b[1m3s\u001b[0m 4ms/step - accuracy: 0.8877 - loss: 0.2785\n",
            "The model has an accuracy of 88.91%, with a loss of 0.28.\n"
          ]
        }
      ]
    },
    {
      "cell_type": "markdown",
      "source": [
        "#### Block 14:  Make predictions using the retrained model"
      ],
      "metadata": {
        "id": "Z3_MbQH8w7Kz"
      }
    },
    {
      "cell_type": "code",
      "source": [
        "predicted_sentiments = model.predict(x_test)\n",
        "n_predict = 10\n",
        "# Note: A number close to 1 is interpreted as indicating a positive review, and\n",
        "# a number close to 0 is interpreted as indicating a negative review.\n",
        "print(predicted_sentiments[:n_predict])"
      ],
      "metadata": {
        "id": "1L-wkMzlxAdV",
        "colab": {
          "base_uri": "https://localhost:8080/"
        },
        "outputId": "95957fc1-0b18-4ebd-bb05-7cf093591578"
      },
      "execution_count": 57,
      "outputs": [
        {
          "output_type": "stream",
          "name": "stdout",
          "text": [
            "\u001b[1m782/782\u001b[0m \u001b[32m━━━━━━━━━━━━━━━━━━━━\u001b[0m\u001b[37m\u001b[0m \u001b[1m2s\u001b[0m 2ms/step\n",
            "[[0.20124252]\n",
            " [0.9995573 ]\n",
            " [0.8403173 ]\n",
            " [0.74374217]\n",
            " [0.94876695]\n",
            " [0.681313  ]\n",
            " [0.99899226]\n",
            " [0.01434402]\n",
            " [0.94775826]\n",
            " [0.98613286]]\n"
          ]
        }
      ]
    },
    {
      "cell_type": "code",
      "source": [
        "## Add code to print reconstructed reviews here.\n",
        "## Add a comment saying whether you agree with the predicted sentiments here.\n",
        "\n",
        "## Identify a predicted sentiment that you would label as positive, a predicted\n",
        "## sentiment that you would label as negative, and a predicted sentiment that\n",
        "## you would label as indeterminate.\n",
        "## -> Based on the result, I believe the first review is negative, the second\n",
        "##    review is positive, and the sixth review is indeterminate (the one with\n",
        "##    0.681313)\n",
        "\n",
        "## Check the first review\n",
        "print('First review:')\n",
        "review = decode_review(test_data[0], indices_to_words)\n",
        "pprint.pprint(review)\n",
        "## -> This is a negative review because the user mentioned that 'the cast\n",
        "## rendered terrible performances'.\n",
        "\n",
        "## Check the second review\n",
        "print('Second review:')\n",
        "review = decode_review(test_data[1], indices_to_words)\n",
        "pprint.pprint(review)\n",
        "## -> This is a positive review with many compliments.\n",
        "\n",
        "## Check the sixth review\n",
        "print('6th review:')\n",
        "review = decode_review(test_data[5], indices_to_words)\n",
        "pprint.pprint(review)\n",
        "## -> This is likely a positive review but there is a word 'disgusted' that\n",
        "##    make it feel like a negative review at the beginning."
      ],
      "metadata": {
        "colab": {
          "base_uri": "https://localhost:8080/"
        },
        "id": "xCIPeg7i2TH5",
        "outputId": "a539991d-8b5a-47a3-a6f8-b81354f4988a"
      },
      "execution_count": 59,
      "outputs": [
        {
          "output_type": "stream",
          "name": "stdout",
          "text": [
            "First review:\n",
            "('[START] please give this one a miss br br [OOV] [OOV] and the rest of the '\n",
            " \"cast rendered terrible performances the show is flat flat flat br br i don't \"\n",
            " 'know how michael madison could have allowed this one on his plate he almost '\n",
            " \"seemed to know this wasn't going to work out and his performance was quite \"\n",
            " '[OOV] so all you madison fans give this a miss')\n",
            "First review:\n",
            "('[START] this film requires a lot of patience because it focuses on mood and '\n",
            " 'character development the plot is very simple and many of the scenes take '\n",
            " 'place on the same set in frances [OOV] the sandy dennis character apartment '\n",
            " 'but the film builds to a disturbing climax br br the characters create an '\n",
            " \"atmosphere [OOV] with sexual tension and psychological [OOV] it's very \"\n",
            " 'interesting that robert altman directed this considering the style and '\n",
            " 'structure of his other films still the trademark altman audio style is '\n",
            " 'evident here and there i think what really makes this film work is the '\n",
            " \"brilliant performance by sandy dennis it's definitely one of her darker \"\n",
            " \"characters but she plays it so perfectly and convincingly that it's scary \"\n",
            " 'michael burns does a good job as the mute young man regular altman player '\n",
            " 'michael murphy has a small part the [OOV] moody set fits the content of the '\n",
            " 'story very well in short this movie is a powerful study of loneliness sexual '\n",
            " '[OOV] and desperation be patient [OOV] up the atmosphere and pay attention '\n",
            " 'to the wonderfully written script br br i praise robert altman this is one '\n",
            " 'of his many films that deals with unconventional fascinating subject matter '\n",
            " \"this film is disturbing but it's sincere and it's sure to [OOV] a strong \"\n",
            " 'emotional response from the viewer if you want to see an unusual film some '\n",
            " \"might even say bizarre this is worth the time br br unfortunately it's very \"\n",
            " 'difficult to find in video stores you may have to buy it off the internet')\n",
            "6th review:\n",
            "(\"[START] i'm absolutely disgusted this movie isn't being sold all who love \"\n",
            " \"this movie should email disney and increase the demand for it they'd \"\n",
            " \"eventually have to sell it then i'd buy copies for everybody i know \"\n",
            " \"everything and everybody in this movie did a good job and i haven't figured \"\n",
            " \"out why disney hasn't put this movie on dvd or on vhs in rental stores at \"\n",
            " \"least i haven't seen any copies this is a wicked good movie and should be \"\n",
            " \"seen by all the kids in the new generation don't get to see it and i think \"\n",
            " \"they should it should at least be put back on the channel this movie doesn't \"\n",
            " \"deserve a cheap [OOV] it deserves the real thing i'm them now this movie \"\n",
            " 'will be on dvd')\n"
          ]
        }
      ]
    }
  ]
}